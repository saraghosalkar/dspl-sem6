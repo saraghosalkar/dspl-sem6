{
 "cells": [
  {
   "cell_type": "code",
   "execution_count": 1,
   "id": "17142141",
   "metadata": {},
   "outputs": [],
   "source": [
    "import seaborn as sns\n",
    "%matplotlib inline\n",
    "import matplotlib.pyplot as plt"
   ]
  },
  {
   "cell_type": "markdown",
   "id": "3f4950ef",
   "metadata": {},
   "source": [
    "# Data \n",
    "Seaborn comes with built-in data sets"
   ]
  },
  {
   "cell_type": "code",
   "execution_count": 2,
   "id": "9be433b2",
   "metadata": {},
   "outputs": [
    {
     "data": {
      "text/plain": [
       "['anagrams',\n",
       " 'anscombe',\n",
       " 'attention',\n",
       " 'brain_networks',\n",
       " 'car_crashes',\n",
       " 'diamonds',\n",
       " 'dots',\n",
       " 'dowjones',\n",
       " 'exercise',\n",
       " 'flights',\n",
       " 'fmri',\n",
       " 'geyser',\n",
       " 'glue',\n",
       " 'healthexp',\n",
       " 'iris',\n",
       " 'mpg',\n",
       " 'penguins',\n",
       " 'planets',\n",
       " 'seaice',\n",
       " 'taxis',\n",
       " 'tips',\n",
       " 'titanic']"
      ]
     },
     "execution_count": 2,
     "metadata": {},
     "output_type": "execute_result"
    }
   ],
   "source": [
    "sns.get_dataset_names()"
   ]
  },
  {
   "cell_type": "code",
   "execution_count": null,
   "id": "7412f699",
   "metadata": {},
   "outputs": [],
   "source": [
    "tips = sns.load_dataset('tips')"
   ]
  },
  {
   "cell_type": "code",
   "execution_count": null,
   "id": "0fc1e873",
   "metadata": {},
   "outputs": [],
   "source": [
    "tips.head()"
   ]
  },
  {
   "cell_type": "code",
   "execution_count": null,
   "id": "0d16b776",
   "metadata": {},
   "outputs": [],
   "source": [
    "tips.describe()"
   ]
  },
  {
   "cell_type": "markdown",
   "id": "61e43076",
   "metadata": {},
   "source": [
    "# Distplot\n",
    "the distplot shows the distribution of a univariate set of observations.\n",
    "### Univariate means one variable. "
   ]
  },
  {
   "cell_type": "code",
   "execution_count": null,
   "id": "a565d8c8",
   "metadata": {},
   "outputs": [],
   "source": [
    "import matplotlib.pyplot as plt\n",
    "sns.distplot(tips['total_bill'])\n",
    "plt.axvline(tips['total_bill'].mean(),color='red')\n",
    "plt.axvline(tips['total_bill'].median(),color='yellow')\n",
    "plt.show()"
   ]
  },
  {
   "cell_type": "code",
   "execution_count": null,
   "id": "997d31fc",
   "metadata": {},
   "outputs": [],
   "source": [
    "import matplotlib.pyplot as plt\n",
    "sns.displot(tips['total_bill'])\n",
    "plt.axvline(tips['total_bill'].mean(),color='red')\n",
    "plt.axvline(tips['total_bill'].median(),color='yellow')\n",
    "plt.show()"
   ]
  },
  {
   "cell_type": "code",
   "execution_count": null,
   "id": "a04532eb",
   "metadata": {},
   "outputs": [],
   "source": [
    "import matplotlib.pyplot as plt\n",
    "sns.histplot(tips['total_bill'])\n",
    "plt.axvline(tips['total_bill'].mean(),color='red')\n",
    "plt.axvline(tips['total_bill'].median(),color='yellow')\n",
    "plt.show()"
   ]
  },
  {
   "cell_type": "code",
   "execution_count": null,
   "id": "940e6224",
   "metadata": {},
   "outputs": [],
   "source": [
    "import warnings\n",
    "warnings.filterwarnings('ignore')"
   ]
  },
  {
   "cell_type": "code",
   "execution_count": null,
   "id": "de23bbc8",
   "metadata": {},
   "outputs": [],
   "source": [
    "import matplotlib.pyplot as plt\n",
    "sns.distplot(tips['total_bill'])\n",
    "plt.axvline(tips['total_bill'].mean(),color='red')\n",
    "plt.axvline(tips['total_bill'].median(),color='yellow')\n",
    "plt.show()"
   ]
  },
  {
   "cell_type": "markdown",
   "id": "81fb35b1",
   "metadata": {},
   "source": [
    "We get a histogram and a Kernel density distribution (KDE)\n",
    "\n",
    "### To hide the KDE, "
   ]
  },
  {
   "cell_type": "code",
   "execution_count": null,
   "id": "fee506ed",
   "metadata": {},
   "outputs": [],
   "source": [
    "sns.distplot(tips['total_bill'],kde=False)"
   ]
  },
  {
   "cell_type": "code",
   "execution_count": null,
   "id": "b0f4d30a",
   "metadata": {},
   "outputs": [],
   "source": [
    "sns.distplot(tips['total_bill'],kde=False, bins=30)"
   ]
  },
  {
   "cell_type": "code",
   "execution_count": null,
   "id": "27caaae3",
   "metadata": {},
   "outputs": [],
   "source": [
    "sns.distplot(tips['total_bill'],kde=False,bins=10)"
   ]
  },
  {
   "cell_type": "markdown",
   "id": "603204f9",
   "metadata": {},
   "source": [
    "Observation : Most of the total bills are between 10 dollars and 20 dollars"
   ]
  },
  {
   "cell_type": "markdown",
   "id": "45c4ba3f",
   "metadata": {},
   "source": [
    "# jointplot\n",
    "jointplot allows you to basically match up two distplots for bivariate data. With your choice of what kind of parameter to compare with : \n",
    "\n",
    "* \"scatter\"\n",
    "* \"reg\"\n",
    "* \"resid\"\n",
    "* \"kde\"\n",
    "* \"hex\""
   ]
  },
  {
   "cell_type": "code",
   "execution_count": null,
   "id": "2dff5331",
   "metadata": {},
   "outputs": [],
   "source": [
    "sns.jointplot(x='total_bill',y='tip',data = tips,kind='scatter')"
   ]
  },
  {
   "cell_type": "code",
   "execution_count": null,
   "id": "9160bf71",
   "metadata": {},
   "outputs": [],
   "source": [
    "sns.jointplot(x='total_bill',y='tip',data = tips,kind='hex')"
   ]
  },
  {
   "cell_type": "code",
   "execution_count": null,
   "id": "23cbf229",
   "metadata": {},
   "outputs": [],
   "source": [
    "sns.jointplot(x='total_bill',y='tip',data = tips,kind='reg')"
   ]
  },
  {
   "cell_type": "code",
   "execution_count": null,
   "id": "1717d8a3",
   "metadata": {},
   "outputs": [],
   "source": [
    "sns.jointplot(x='total_bill',y='tip',data = tips,kind='kde')"
   ]
  },
  {
   "cell_type": "markdown",
   "id": "2951e88f",
   "metadata": {},
   "source": [
    "# pairplot\n",
    "\n",
    "pairplot will plot pairwise relationships across an entire dataframe (for the numerical columns) and supports a color hue argument (for categorical columns)"
   ]
  },
  {
   "cell_type": "code",
   "execution_count": null,
   "id": "083ac4ae",
   "metadata": {},
   "outputs": [],
   "source": [
    "tips.head()"
   ]
  },
  {
   "cell_type": "code",
   "execution_count": null,
   "id": "5753f4d9",
   "metadata": {},
   "outputs": [],
   "source": [
    "sns.pairplot(tips)"
   ]
  },
  {
   "cell_type": "code",
   "execution_count": null,
   "id": "aed6e3a4",
   "metadata": {},
   "outputs": [],
   "source": [
    "sns.pairplot(tips,hue='sex')"
   ]
  },
  {
   "cell_type": "code",
   "execution_count": null,
   "id": "8984d401",
   "metadata": {},
   "outputs": [],
   "source": [
    "sns.pairplot(tips,hue='smoker')"
   ]
  },
  {
   "cell_type": "code",
   "execution_count": null,
   "id": "94242c65",
   "metadata": {},
   "outputs": [],
   "source": [
    "sns.pairplot(tips,hue='sex',palette='coolwarm')"
   ]
  },
  {
   "cell_type": "markdown",
   "id": "02fda5be",
   "metadata": {},
   "source": [
    "# rugplot"
   ]
  },
  {
   "cell_type": "code",
   "execution_count": null,
   "id": "0b63a883",
   "metadata": {},
   "outputs": [],
   "source": []
  }
 ],
 "metadata": {
  "kernelspec": {
   "display_name": "Python 3 (ipykernel)",
   "language": "python",
   "name": "python3"
  },
  "language_info": {
   "codemirror_mode": {
    "name": "ipython",
    "version": 3
   },
   "file_extension": ".py",
   "mimetype": "text/x-python",
   "name": "python",
   "nbconvert_exporter": "python",
   "pygments_lexer": "ipython3",
   "version": "3.9.13"
  }
 },
 "nbformat": 4,
 "nbformat_minor": 5
}
